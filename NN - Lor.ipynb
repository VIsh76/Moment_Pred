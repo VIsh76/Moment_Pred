{
 "cells": [
  {
   "cell_type": "markdown",
   "metadata": {},
   "source": [
    "### NN"
   ]
  },
  {
   "cell_type": "code",
   "execution_count": 2,
   "metadata": {},
   "outputs": [],
   "source": [
    "from pandas import read_csv\n",
    "from matplotlib import pyplot\n",
    "from sklearn.metrics import mean_squared_error\n",
    "from sklearn.linear_model import LinearRegression\n",
    "import numpy as np\n",
    "import matplotlib.pyplot as plt\n",
    "from data_utils import Load_mu_sigma"
   ]
  },
  {
   "cell_type": "code",
   "execution_count": 3,
   "metadata": {
    "scrolled": true
   },
   "outputs": [],
   "source": [
    "X = Load_mu_sigma(\"Data/150x50000x1xSeed0/\")\n",
    "muX = np.mean(X, axis=0).reshape(1,-1)\n",
    "sigmaX = np.std(X, axis=0).reshape(1,-1)\n",
    "X = (X-muX)/sigmaX\n",
    "\n",
    "Y = X[:-1]\n",
    "X = X[1:]\n",
    "\n",
    "nvalues=0"
   ]
  },
  {
   "cell_type": "code",
   "execution_count": 4,
   "metadata": {
    "collapsed": true
   },
   "outputs": [
    {
     "name": "stderr",
     "output_type": "stream",
     "text": [
      "Using TensorFlow backend.\n",
      "/home/victor/anaconda3/envs/tf_old/lib/python3.7/site-packages/tensorflow/python/framework/dtypes.py:516: FutureWarning: Passing (type, 1) or '1type' as a synonym of type is deprecated; in a future version of numpy, it will be understood as (type, (1,)) / '(1,)type'.\n",
      "  _np_qint8 = np.dtype([(\"qint8\", np.int8, 1)])\n",
      "/home/victor/anaconda3/envs/tf_old/lib/python3.7/site-packages/tensorflow/python/framework/dtypes.py:517: FutureWarning: Passing (type, 1) or '1type' as a synonym of type is deprecated; in a future version of numpy, it will be understood as (type, (1,)) / '(1,)type'.\n",
      "  _np_quint8 = np.dtype([(\"quint8\", np.uint8, 1)])\n",
      "/home/victor/anaconda3/envs/tf_old/lib/python3.7/site-packages/tensorflow/python/framework/dtypes.py:518: FutureWarning: Passing (type, 1) or '1type' as a synonym of type is deprecated; in a future version of numpy, it will be understood as (type, (1,)) / '(1,)type'.\n",
      "  _np_qint16 = np.dtype([(\"qint16\", np.int16, 1)])\n",
      "/home/victor/anaconda3/envs/tf_old/lib/python3.7/site-packages/tensorflow/python/framework/dtypes.py:519: FutureWarning: Passing (type, 1) or '1type' as a synonym of type is deprecated; in a future version of numpy, it will be understood as (type, (1,)) / '(1,)type'.\n",
      "  _np_quint16 = np.dtype([(\"quint16\", np.uint16, 1)])\n",
      "/home/victor/anaconda3/envs/tf_old/lib/python3.7/site-packages/tensorflow/python/framework/dtypes.py:520: FutureWarning: Passing (type, 1) or '1type' as a synonym of type is deprecated; in a future version of numpy, it will be understood as (type, (1,)) / '(1,)type'.\n",
      "  _np_qint32 = np.dtype([(\"qint32\", np.int32, 1)])\n",
      "/home/victor/anaconda3/envs/tf_old/lib/python3.7/site-packages/tensorflow/python/framework/dtypes.py:525: FutureWarning: Passing (type, 1) or '1type' as a synonym of type is deprecated; in a future version of numpy, it will be understood as (type, (1,)) / '(1,)type'.\n",
      "  np_resource = np.dtype([(\"resource\", np.ubyte, 1)])\n"
     ]
    },
    {
     "name": "stdout",
     "output_type": "stream",
     "text": [
      "WARNING:tensorflow:From /home/victor/anaconda3/envs/tf_old/lib/python3.7/site-packages/keras/backend/tensorflow_backend.py:517: The name tf.placeholder is deprecated. Please use tf.compat.v1.placeholder instead.\n",
      "\n",
      "WARNING:tensorflow:From /home/victor/anaconda3/envs/tf_old/lib/python3.7/site-packages/keras/backend/tensorflow_backend.py:4138: The name tf.random_uniform is deprecated. Please use tf.random.uniform instead.\n",
      "\n",
      "WARNING:tensorflow:From /home/victor/anaconda3/envs/tf_old/lib/python3.7/site-packages/keras/backend/tensorflow_backend.py:3217: add_dispatch_support.<locals>.wrapper (from tensorflow.python.ops.array_ops) is deprecated and will be removed in a future version.\n",
      "Instructions for updating:\n",
      "Use tf.where in 2.0, which has the same broadcast rule as np.where\n",
      "WARNING:tensorflow:From /home/victor/anaconda3/envs/tf_old/lib/python3.7/site-packages/keras/backend/tensorflow_backend.py:74: The name tf.get_default_graph is deprecated. Please use tf.compat.v1.get_default_graph instead.\n",
      "\n"
     ]
    },
    {
     "name": "stderr",
     "output_type": "stream",
     "text": [
      "/home/victor/anaconda3/envs/tf_old/lib/python3.7/site-packages/tensorboard/compat/tensorflow_stub/dtypes.py:541: FutureWarning: Passing (type, 1) or '1type' as a synonym of type is deprecated; in a future version of numpy, it will be understood as (type, (1,)) / '(1,)type'.\n",
      "  _np_qint8 = np.dtype([(\"qint8\", np.int8, 1)])\n",
      "/home/victor/anaconda3/envs/tf_old/lib/python3.7/site-packages/tensorboard/compat/tensorflow_stub/dtypes.py:542: FutureWarning: Passing (type, 1) or '1type' as a synonym of type is deprecated; in a future version of numpy, it will be understood as (type, (1,)) / '(1,)type'.\n",
      "  _np_quint8 = np.dtype([(\"quint8\", np.uint8, 1)])\n",
      "/home/victor/anaconda3/envs/tf_old/lib/python3.7/site-packages/tensorboard/compat/tensorflow_stub/dtypes.py:543: FutureWarning: Passing (type, 1) or '1type' as a synonym of type is deprecated; in a future version of numpy, it will be understood as (type, (1,)) / '(1,)type'.\n",
      "  _np_qint16 = np.dtype([(\"qint16\", np.int16, 1)])\n",
      "/home/victor/anaconda3/envs/tf_old/lib/python3.7/site-packages/tensorboard/compat/tensorflow_stub/dtypes.py:544: FutureWarning: Passing (type, 1) or '1type' as a synonym of type is deprecated; in a future version of numpy, it will be understood as (type, (1,)) / '(1,)type'.\n",
      "  _np_quint16 = np.dtype([(\"quint16\", np.uint16, 1)])\n",
      "/home/victor/anaconda3/envs/tf_old/lib/python3.7/site-packages/tensorboard/compat/tensorflow_stub/dtypes.py:545: FutureWarning: Passing (type, 1) or '1type' as a synonym of type is deprecated; in a future version of numpy, it will be understood as (type, (1,)) / '(1,)type'.\n",
      "  _np_qint32 = np.dtype([(\"qint32\", np.int32, 1)])\n",
      "/home/victor/anaconda3/envs/tf_old/lib/python3.7/site-packages/tensorboard/compat/tensorflow_stub/dtypes.py:550: FutureWarning: Passing (type, 1) or '1type' as a synonym of type is deprecated; in a future version of numpy, it will be understood as (type, (1,)) / '(1,)type'.\n",
      "  np_resource = np.dtype([(\"resource\", np.ubyte, 1)])\n"
     ]
    }
   ],
   "source": [
    "import keras\n",
    "import keras.backend as K\n",
    "import os\n",
    "\n",
    "from keras.models import Sequential\n",
    "from keras.layers import Dense, Input, Concatenate\n",
    "from keras import regularizers\n",
    "\n",
    "from architectures_utils import Name, Activation_Generator\n",
    "from architectures import Residual_Connected\n",
    "#BIG\n",
    "input_dim = X.shape[1]\n",
    "L_neurons = [input_dim, 3*input_dim, 2*input_dim, 9]\n",
    "L_activation = [\"\",\"elu\",\"elu\",\"linear\"]\n",
    "L_residual = [False, False, False, True]\n",
    "\n",
    "\n",
    "M = Residual_Connected(L_neurons,L_activation, L_residual, params=[0.01]);"
   ]
  },
  {
   "cell_type": "markdown",
   "metadata": {},
   "source": [
    "if False:\n",
    "    I = Input(shape=(input_dim,))\n",
    "    O1 = N(I)\n",
    "    O2 = F(O1)\n",
    "    M = keras.Model(I,O2)\n",
    "else:\n",
    "    M = F"
   ]
  },
  {
   "cell_type": "markdown",
   "metadata": {},
   "source": [
    "input_dim = X.shape[1]\n",
    "L_neurons = [input_dim,  input_dim]\n",
    "L_activation = [\"\",\"linear\"]\n",
    "L_residual = [False, False, False]\n",
    "F = Residual_Connected(L_neurons, L_activation, L_residual, params=0.01)\n",
    "M = F\n",
    "print(M.summary())"
   ]
  },
  {
   "cell_type": "code",
   "execution_count": 5,
   "metadata": {
    "scrolled": true
   },
   "outputs": [
    {
     "name": "stdout",
     "output_type": "stream",
     "text": [
      "WARNING:tensorflow:From /home/victor/anaconda3/envs/tf_old/lib/python3.7/site-packages/keras/optimizers.py:790: The name tf.train.Optimizer is deprecated. Please use tf.compat.v1.train.Optimizer instead.\n",
      "\n",
      "WARNING:tensorflow:From /home/victor/anaconda3/envs/tf_old/lib/python3.7/site-packages/keras/backend/tensorflow_backend.py:986: The name tf.assign_add is deprecated. Please use tf.compat.v1.assign_add instead.\n",
      "\n",
      "WARNING:tensorflow:From /home/victor/anaconda3/envs/tf_old/lib/python3.7/site-packages/keras/backend/tensorflow_backend.py:973: The name tf.assign is deprecated. Please use tf.compat.v1.assign instead.\n",
      "\n",
      "Train on 46549 samples, validate on 2450 samples\n",
      "Epoch 1/50\n",
      "46549/46549 [==============================] - 3s 55us/step - loss: 0.0430 - val_loss: 0.0093\n",
      "Epoch 2/50\n",
      "46549/46549 [==============================] - 1s 11us/step - loss: 0.0085 - val_loss: 0.0077\n",
      "Epoch 3/50\n",
      "46549/46549 [==============================] - 0s 11us/step - loss: 0.0074 - val_loss: 0.0070\n",
      "Epoch 4/50\n",
      "46549/46549 [==============================] - 0s 11us/step - loss: 0.0069 - val_loss: 0.0066\n",
      "Epoch 5/50\n",
      "46549/46549 [==============================] - 0s 11us/step - loss: 0.0065 - val_loss: 0.0063\n",
      "Epoch 6/50\n",
      "46549/46549 [==============================] - 0s 11us/step - loss: 0.0062 - val_loss: 0.0060\n",
      "Epoch 7/50\n",
      "46549/46549 [==============================] - 1s 11us/step - loss: 0.0060 - val_loss: 0.0059\n",
      "Epoch 8/50\n",
      "46549/46549 [==============================] - 1s 11us/step - loss: 0.0058 - val_loss: 0.0056\n",
      "Epoch 9/50\n",
      "46549/46549 [==============================] - 0s 11us/step - loss: 0.0056 - val_loss: 0.0054\n",
      "Epoch 10/50\n",
      "46549/46549 [==============================] - 1s 11us/step - loss: 0.0054 - val_loss: 0.0053\n",
      "Epoch 11/50\n",
      "46549/46549 [==============================] - 1s 12us/step - loss: 0.0053 - val_loss: 0.0052\n",
      "Epoch 12/50\n",
      "46549/46549 [==============================] - 1s 12us/step - loss: 0.0052 - val_loss: 0.0050\n",
      "Epoch 13/50\n",
      "46549/46549 [==============================] - 0s 10us/step - loss: 0.0051 - val_loss: 0.0049\n",
      "Epoch 14/50\n",
      "46549/46549 [==============================] - 1s 11us/step - loss: 0.0050 - val_loss: 0.0048\n",
      "Epoch 15/50\n",
      "46549/46549 [==============================] - 1s 11us/step - loss: 0.0049 - val_loss: 0.0048\n",
      "Epoch 16/50\n",
      "46549/46549 [==============================] - 1s 12us/step - loss: 0.0048 - val_loss: 0.0047\n",
      "Epoch 17/50\n",
      "46549/46549 [==============================] - 1s 12us/step - loss: 0.0047 - val_loss: 0.0046\n",
      "Epoch 18/50\n",
      "46549/46549 [==============================] - 1s 11us/step - loss: 0.0046 - val_loss: 0.0045\n",
      "Epoch 19/50\n",
      "46549/46549 [==============================] - 1s 11us/step - loss: 0.0045 - val_loss: 0.0044\n",
      "Epoch 20/50\n",
      "46549/46549 [==============================] - 1s 11us/step - loss: 0.0045 - val_loss: 0.0043\n",
      "Epoch 21/50\n",
      "46549/46549 [==============================] - 1s 11us/step - loss: 0.0044 - val_loss: 0.0043\n",
      "Epoch 22/50\n",
      "46549/46549 [==============================] - 1s 11us/step - loss: 0.0044 - val_loss: 0.0043\n",
      "Epoch 23/50\n",
      "46549/46549 [==============================] - 1s 12us/step - loss: 0.0043 - val_loss: 0.0041\n",
      "Epoch 24/50\n",
      "46549/46549 [==============================] - 1s 12us/step - loss: 0.0043 - val_loss: 0.0041\n",
      "Epoch 25/50\n",
      "46549/46549 [==============================] - 1s 12us/step - loss: 0.0042 - val_loss: 0.0041\n",
      "Epoch 26/50\n",
      "46549/46549 [==============================] - 1s 11us/step - loss: 0.0042 - val_loss: 0.0040\n",
      "Epoch 27/50\n",
      "46549/46549 [==============================] - 1s 12us/step - loss: 0.0041 - val_loss: 0.0040\n",
      "Epoch 28/50\n",
      "46549/46549 [==============================] - 1s 11us/step - loss: 0.0041 - val_loss: 0.0039\n",
      "Epoch 29/50\n",
      "46549/46549 [==============================] - 1s 13us/step - loss: 0.0040 - val_loss: 0.0039\n"
     ]
    },
    {
     "data": {
      "text/plain": [
       "<keras.callbacks.History at 0x7f850b9321d0>"
      ]
     },
     "execution_count": 5,
     "metadata": {},
     "output_type": "execute_result"
    }
   ],
   "source": [
    "from keras import optimizers\n",
    "from keras.callbacks import EarlyStopping\n",
    "\n",
    "def Loss(Ytrue,YNN):\n",
    "    return keras.losses.mean_squared_error(Ytrue, YNN)\n",
    "\n",
    "sgd = optimizers.SGD(lr=0.04, decay=0, momentum=0.9, nesterov=True)\n",
    "M.compile(sgd, Loss)\n",
    "\n",
    "ES = EarlyStopping()\n",
    "M.fit(x=X,y=Y[nvalues:], batch_size=128, epochs=50, validation_split=0.05, callbacks=[ES])"
   ]
  },
  {
   "cell_type": "code",
   "execution_count": 9,
   "metadata": {},
   "outputs": [],
   "source": [
    "X2 = Load_mu_sigma(\"Data/150x50000x1xSeed10_ns/\")\n",
    "X2 = (X2-muX)/sigmaX\n",
    "Y2 = X2[:-1]\n",
    "X2 = X2[1:]\n",
    "nvalues=0"
   ]
  },
  {
   "cell_type": "code",
   "execution_count": 10,
   "metadata": {
    "scrolled": true
   },
   "outputs": [
    {
     "name": "stdout",
     "output_type": "stream",
     "text": [
      "Average mean of data 0.7069995893874464\n",
      "Average error train 0.004769174314239386\n",
      "Average error test 0.004769174314239386\n"
     ]
    }
   ],
   "source": [
    "print(\"Average mean of data\", np.mean(abs(X2)))\n",
    "#print(\"Deviations of each term\", np.std(Xtest, axis=0)**2)\n",
    "print(\"Average error train\", mean_squared_error(M.predict(X2),Y2))\n",
    "print(\"Average error test\", mean_squared_error(M.predict(X2),Y2))"
   ]
  },
  {
   "cell_type": "markdown",
   "metadata": {},
   "source": [
    "### VALIDATION DATA FROM ANTOTHER SEED"
   ]
  },
  {
   "cell_type": "code",
   "execution_count": 22,
   "metadata": {},
   "outputs": [],
   "source": [
    "mu2 = np.load(\"Data/100x50000xSeed1000/mu.npy\")\n",
    "sigma2 = np.load(\"Data/100x50000xSeed1000/sigma.npy\")\n",
    "#Burning\n",
    "mu2 = mu2[5000:]\n",
    "sigma2=sigma2.reshape(len(sigma2), -1)[5000:]\n",
    "\n",
    "X2 = np.concatenate( (mu2,sigma2[:,[0,1,2,4,5,8]]), axis=1)\n",
    "\n",
    "Y2 = (X2[1:] - X2[-1:])\n",
    "Y2/=np.std(Y, axis=0)\n",
    "X2 = X2[1:]"
   ]
  },
  {
   "cell_type": "code",
   "execution_count": 23,
   "metadata": {},
   "outputs": [],
   "source": [
    "import keras.backend as K\n",
    "\n",
    "O = K.get_value(Loss(M.predict(X),Y))"
   ]
  },
  {
   "cell_type": "code",
   "execution_count": 24,
   "metadata": {},
   "outputs": [
    {
     "data": {
      "text/plain": [
       "0.00042014404263955325"
      ]
     },
     "execution_count": 24,
     "metadata": {},
     "output_type": "execute_result"
    }
   ],
   "source": [
    "print(\"Average mean of data\", np.mean(abs(X2)))\n",
    "#print(\"Deviations of each term\", np.std(Xtest, axis=0)**2)\n",
    "print(\"Average error train\", mean_squared_error(L.predict(X2),Y2))\n",
    "print(\"Average error test\", mean_squared_error(L.predict(X2),Y2))"
   ]
  }
 ],
 "metadata": {
  "kernelspec": {
   "display_name": "Python 3",
   "language": "python",
   "name": "python3"
  },
  "language_info": {
   "codemirror_mode": {
    "name": "ipython",
    "version": 3
   },
   "file_extension": ".py",
   "mimetype": "text/x-python",
   "name": "python",
   "nbconvert_exporter": "python",
   "pygments_lexer": "ipython3",
   "version": "3.7.4"
  }
 },
 "nbformat": 4,
 "nbformat_minor": 2
}
